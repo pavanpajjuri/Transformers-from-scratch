{
 "cells": [
  {
   "cell_type": "code",
   "execution_count": 2,
   "metadata": {
    "id": "YoBq61T_OPqf"
   },
   "outputs": [],
   "source": [
    "# !pip install torchtext==0.16.0 --no-cache-dir\n",
    "# !pip install spacy\n",
    "# !python -m spacy download de_core_news_sm\n",
    "# !python -m spacy download en_core_web_sm\n",
    "# !pip install sacrebleu\n",
    "# !pip install --upgrade --force-reinstall portalocker"
   ]
  },
  {
   "cell_type": "code",
   "execution_count": null,
   "metadata": {
    "id": "4AeO9D_FOWSt"
   },
   "outputs": [],
   "source": []
  },
  {
   "cell_type": "code",
   "execution_count": 3,
   "metadata": {},
   "outputs": [
    {
     "name": "stderr",
     "output_type": "stream",
     "text": [
      "/home/ec2-user/anaconda3/envs/python3/lib/python3.10/site-packages/pydantic/_internal/_fields.py:192: UserWarning: Field name \"json\" in \"MonitoringDatasetFormat\" shadows an attribute in parent \"Base\"\n",
      "  warnings.warn(\n"
     ]
    },
    {
     "data": {
      "text/html": [
       "<pre style=\"white-space:pre;overflow-x:auto;line-height:normal;font-family:Menlo,'DejaVu Sans Mono',consolas,'Courier New',monospace\"><span style=\"color: #7fbfbf; text-decoration-color: #7fbfbf\">[03/12/25 04:43:22] </span><span style=\"color: #0069ff; text-decoration-color: #0069ff; font-weight: bold\">INFO    </span> Found credentials from IAM Role:                                   <a href=\"file:///home/ec2-user/anaconda3/envs/python3/lib/python3.10/site-packages/botocore/credentials.py\" target=\"_blank\"><span style=\"color: #7f7f7f; text-decoration-color: #7f7f7f\">credentials.py</span></a><span style=\"color: #7f7f7f; text-decoration-color: #7f7f7f\">:</span><a href=\"file:///home/ec2-user/anaconda3/envs/python3/lib/python3.10/site-packages/botocore/credentials.py#1132\" target=\"_blank\"><span style=\"color: #7f7f7f; text-decoration-color: #7f7f7f\">1132</span></a>\n",
       "<span style=\"color: #7fbfbf; text-decoration-color: #7fbfbf\">                    </span>         BaseNotebookInstanceEc2InstanceRole                                <span style=\"color: #7f7f7f; text-decoration-color: #7f7f7f\">                   </span>\n",
       "</pre>\n"
      ],
      "text/plain": [
       "\u001b[2;36m[03/12/25 04:43:22]\u001b[0m\u001b[2;36m \u001b[0m\u001b[1;38;2;0;105;255mINFO    \u001b[0m Found credentials from IAM Role:                                   \u001b]8;id=710547;file:///home/ec2-user/anaconda3/envs/python3/lib/python3.10/site-packages/botocore/credentials.py\u001b\\\u001b[2mcredentials.py\u001b[0m\u001b]8;;\u001b\\\u001b[2m:\u001b[0m\u001b]8;id=717489;file:///home/ec2-user/anaconda3/envs/python3/lib/python3.10/site-packages/botocore/credentials.py#1132\u001b\\\u001b[2m1132\u001b[0m\u001b]8;;\u001b\\\n",
       "\u001b[2;36m                    \u001b[0m         BaseNotebookInstanceEc2InstanceRole                                \u001b[2m                   \u001b[0m\n"
      ]
     },
     "metadata": {},
     "output_type": "display_data"
    },
    {
     "name": "stdout",
     "output_type": "stream",
     "text": [
      "sagemaker.config INFO - Not applying SDK defaults from location: /etc/xdg/sagemaker/config.yaml\n",
      "sagemaker.config INFO - Not applying SDK defaults from location: /home/ec2-user/.config/sagemaker/config.yaml\n"
     ]
    },
    {
     "data": {
      "text/html": [
       "<pre style=\"white-space:pre;overflow-x:auto;line-height:normal;font-family:Menlo,'DejaVu Sans Mono',consolas,'Courier New',monospace\"><span style=\"color: #7fbfbf; text-decoration-color: #7fbfbf\">[03/12/25 04:43:29] </span><span style=\"color: #0069ff; text-decoration-color: #0069ff; font-weight: bold\">INFO    </span> Found credentials from IAM Role:                                   <a href=\"file:///home/ec2-user/anaconda3/envs/python3/lib/python3.10/site-packages/botocore/credentials.py\" target=\"_blank\"><span style=\"color: #7f7f7f; text-decoration-color: #7f7f7f\">credentials.py</span></a><span style=\"color: #7f7f7f; text-decoration-color: #7f7f7f\">:</span><a href=\"file:///home/ec2-user/anaconda3/envs/python3/lib/python3.10/site-packages/botocore/credentials.py#1132\" target=\"_blank\"><span style=\"color: #7f7f7f; text-decoration-color: #7f7f7f\">1132</span></a>\n",
       "<span style=\"color: #7fbfbf; text-decoration-color: #7fbfbf\">                    </span>         BaseNotebookInstanceEc2InstanceRole                                <span style=\"color: #7f7f7f; text-decoration-color: #7f7f7f\">                   </span>\n",
       "</pre>\n"
      ],
      "text/plain": [
       "\u001b[2;36m[03/12/25 04:43:29]\u001b[0m\u001b[2;36m \u001b[0m\u001b[1;38;2;0;105;255mINFO    \u001b[0m Found credentials from IAM Role:                                   \u001b]8;id=349572;file:///home/ec2-user/anaconda3/envs/python3/lib/python3.10/site-packages/botocore/credentials.py\u001b\\\u001b[2mcredentials.py\u001b[0m\u001b]8;;\u001b\\\u001b[2m:\u001b[0m\u001b]8;id=802830;file:///home/ec2-user/anaconda3/envs/python3/lib/python3.10/site-packages/botocore/credentials.py#1132\u001b\\\u001b[2m1132\u001b[0m\u001b]8;;\u001b\\\n",
       "\u001b[2;36m                    \u001b[0m         BaseNotebookInstanceEc2InstanceRole                                \u001b[2m                   \u001b[0m\n"
      ]
     },
     "metadata": {},
     "output_type": "display_data"
    },
    {
     "data": {
      "text/html": [
       "<pre style=\"white-space:pre;overflow-x:auto;line-height:normal;font-family:Menlo,'DejaVu Sans Mono',consolas,'Courier New',monospace\"><span style=\"color: #7fbfbf; text-decoration-color: #7fbfbf\">[03/12/25 04:43:30] </span><span style=\"color: #0069ff; text-decoration-color: #0069ff; font-weight: bold\">INFO    </span> Found credentials from IAM Role:                                   <a href=\"file:///home/ec2-user/anaconda3/envs/python3/lib/python3.10/site-packages/botocore/credentials.py\" target=\"_blank\"><span style=\"color: #7f7f7f; text-decoration-color: #7f7f7f\">credentials.py</span></a><span style=\"color: #7f7f7f; text-decoration-color: #7f7f7f\">:</span><a href=\"file:///home/ec2-user/anaconda3/envs/python3/lib/python3.10/site-packages/botocore/credentials.py#1132\" target=\"_blank\"><span style=\"color: #7f7f7f; text-decoration-color: #7f7f7f\">1132</span></a>\n",
       "<span style=\"color: #7fbfbf; text-decoration-color: #7fbfbf\">                    </span>         BaseNotebookInstanceEc2InstanceRole                                <span style=\"color: #7f7f7f; text-decoration-color: #7f7f7f\">                   </span>\n",
       "</pre>\n"
      ],
      "text/plain": [
       "\u001b[2;36m[03/12/25 04:43:30]\u001b[0m\u001b[2;36m \u001b[0m\u001b[1;38;2;0;105;255mINFO    \u001b[0m Found credentials from IAM Role:                                   \u001b]8;id=653792;file:///home/ec2-user/anaconda3/envs/python3/lib/python3.10/site-packages/botocore/credentials.py\u001b\\\u001b[2mcredentials.py\u001b[0m\u001b]8;;\u001b\\\u001b[2m:\u001b[0m\u001b]8;id=446272;file:///home/ec2-user/anaconda3/envs/python3/lib/python3.10/site-packages/botocore/credentials.py#1132\u001b\\\u001b[2m1132\u001b[0m\u001b]8;;\u001b\\\n",
       "\u001b[2;36m                    \u001b[0m         BaseNotebookInstanceEc2InstanceRole                                \u001b[2m                   \u001b[0m\n"
      ]
     },
     "metadata": {},
     "output_type": "display_data"
    }
   ],
   "source": [
    "import sagemaker\n",
    "import boto3\n",
    "import os\n",
    "import torch\n",
    "\n",
    "sess = sagemaker.Session()\n",
    "bucket = sess.default_bucket()  # S3 bucket for storing models\n",
    "role = sagemaker.get_execution_role()  # IAM role for accessing SageMaker\n"
   ]
  },
  {
   "cell_type": "code",
   "execution_count": 4,
   "metadata": {},
   "outputs": [
    {
     "data": {
      "text/html": [
       "<pre style=\"white-space:pre;overflow-x:auto;line-height:normal;font-family:Menlo,'DejaVu Sans Mono',consolas,'Courier New',monospace\"><span style=\"color: #7fbfbf; text-decoration-color: #7fbfbf\">[03/12/25 04:43:36] </span><span style=\"color: #0069ff; text-decoration-color: #0069ff; font-weight: bold\">INFO    </span> Found credentials from IAM Role:                                   <a href=\"file:///home/ec2-user/anaconda3/envs/python3/lib/python3.10/site-packages/botocore/credentials.py\" target=\"_blank\"><span style=\"color: #7f7f7f; text-decoration-color: #7f7f7f\">credentials.py</span></a><span style=\"color: #7f7f7f; text-decoration-color: #7f7f7f\">:</span><a href=\"file:///home/ec2-user/anaconda3/envs/python3/lib/python3.10/site-packages/botocore/credentials.py#1132\" target=\"_blank\"><span style=\"color: #7f7f7f; text-decoration-color: #7f7f7f\">1132</span></a>\n",
       "<span style=\"color: #7fbfbf; text-decoration-color: #7fbfbf\">                    </span>         BaseNotebookInstanceEc2InstanceRole                                <span style=\"color: #7f7f7f; text-decoration-color: #7f7f7f\">                   </span>\n",
       "</pre>\n"
      ],
      "text/plain": [
       "\u001b[2;36m[03/12/25 04:43:36]\u001b[0m\u001b[2;36m \u001b[0m\u001b[1;38;2;0;105;255mINFO    \u001b[0m Found credentials from IAM Role:                                   \u001b]8;id=287597;file:///home/ec2-user/anaconda3/envs/python3/lib/python3.10/site-packages/botocore/credentials.py\u001b\\\u001b[2mcredentials.py\u001b[0m\u001b]8;;\u001b\\\u001b[2m:\u001b[0m\u001b]8;id=700359;file:///home/ec2-user/anaconda3/envs/python3/lib/python3.10/site-packages/botocore/credentials.py#1132\u001b\\\u001b[2m1132\u001b[0m\u001b]8;;\u001b\\\n",
       "\u001b[2;36m                    \u001b[0m         BaseNotebookInstanceEc2InstanceRole                                \u001b[2m                   \u001b[0m\n"
      ]
     },
     "metadata": {},
     "output_type": "display_data"
    },
    {
     "name": "stdout",
     "output_type": "stream",
     "text": [
      "Bucket 'spajjuri-transformers' already exists.\n"
     ]
    }
   ],
   "source": [
    "def create_s3_bucket(bucket_name, region=\"us-east-2\"):\n",
    "    s3 = boto3.client(\"s3\")\n",
    "\n",
    "    # Check if the bucket already exists\n",
    "    existing_buckets = [bucket[\"Name\"] for bucket in s3.list_buckets()[\"Buckets\"]]\n",
    "    \n",
    "    if bucket_name in existing_buckets:\n",
    "        print(f\"Bucket '{bucket_name}' already exists.\")\n",
    "    else:\n",
    "        print(f\"Bucket '{bucket_name}' does not exist. Creating...\")\n",
    "        if region == \"us-east-1\":\n",
    "            s3.create_bucket(Bucket=bucket_name)  # No CreateBucketConfiguration for us-east-1\n",
    "        else:\n",
    "            s3.create_bucket(\n",
    "                Bucket=bucket_name,\n",
    "                CreateBucketConfiguration={\"LocationConstraint\": region}\n",
    "            )\n",
    "        print(f\"Bucket '{bucket_name}' created successfully!\")\n",
    "\n",
    "# Example usage\n",
    "bucket_name = \"spajjuri-transformers\"  # Change this\n",
    "create_s3_bucket(bucket_name, region=\"us-east-2\")"
   ]
  },
  {
   "cell_type": "code",
   "execution_count": 5,
   "metadata": {
    "id": "SMdXQ-q_OLa3"
   },
   "outputs": [
    {
     "data": {
      "text/html": [
       "<pre style=\"white-space:pre;overflow-x:auto;line-height:normal;font-family:Menlo,'DejaVu Sans Mono',consolas,'Courier New',monospace\"><span style=\"color: #7fbfbf; text-decoration-color: #7fbfbf\">[03/12/25 04:43:48] </span><span style=\"color: #d7af00; text-decoration-color: #d7af00; font-weight: bold\">WARNING </span> Matplotlib is building the font cache; this may take a moment.    <a href=\"file:///home/ec2-user/anaconda3/envs/python3/lib/python3.10/site-packages/matplotlib/font_manager.py\" target=\"_blank\"><span style=\"color: #7f7f7f; text-decoration-color: #7f7f7f\">font_manager.py</span></a><span style=\"color: #7f7f7f; text-decoration-color: #7f7f7f\">:</span><a href=\"file:///home/ec2-user/anaconda3/envs/python3/lib/python3.10/site-packages/matplotlib/font_manager.py#1095\" target=\"_blank\"><span style=\"color: #7f7f7f; text-decoration-color: #7f7f7f\">1095</span></a>\n",
       "</pre>\n"
      ],
      "text/plain": [
       "\u001b[2;36m[03/12/25 04:43:48]\u001b[0m\u001b[2;36m \u001b[0m\u001b[1;38;2;215;175;0mWARNING \u001b[0m Matplotlib is building the font cache; this may take a moment.    \u001b]8;id=742662;file:///home/ec2-user/anaconda3/envs/python3/lib/python3.10/site-packages/matplotlib/font_manager.py\u001b\\\u001b[2mfont_manager.py\u001b[0m\u001b]8;;\u001b\\\u001b[2m:\u001b[0m\u001b]8;id=888568;file:///home/ec2-user/anaconda3/envs/python3/lib/python3.10/site-packages/matplotlib/font_manager.py#1095\u001b\\\u001b[2m1095\u001b[0m\u001b]8;;\u001b\\\n"
      ]
     },
     "metadata": {},
     "output_type": "display_data"
    },
    {
     "data": {
      "text/html": [
       "<pre style=\"white-space:pre;overflow-x:auto;line-height:normal;font-family:Menlo,'DejaVu Sans Mono',consolas,'Courier New',monospace\"><span style=\"color: #7fbfbf; text-decoration-color: #7fbfbf\">[03/12/25 04:43:50] </span><span style=\"color: #0069ff; text-decoration-color: #0069ff; font-weight: bold\">INFO    </span> generated new fontManager                                         <a href=\"file:///home/ec2-user/anaconda3/envs/python3/lib/python3.10/site-packages/matplotlib/font_manager.py\" target=\"_blank\"><span style=\"color: #7f7f7f; text-decoration-color: #7f7f7f\">font_manager.py</span></a><span style=\"color: #7f7f7f; text-decoration-color: #7f7f7f\">:</span><a href=\"file:///home/ec2-user/anaconda3/envs/python3/lib/python3.10/site-packages/matplotlib/font_manager.py#1639\" target=\"_blank\"><span style=\"color: #7f7f7f; text-decoration-color: #7f7f7f\">1639</span></a>\n",
       "</pre>\n"
      ],
      "text/plain": [
       "\u001b[2;36m[03/12/25 04:43:50]\u001b[0m\u001b[2;36m \u001b[0m\u001b[1;38;2;0;105;255mINFO    \u001b[0m generated new fontManager                                         \u001b]8;id=187840;file:///home/ec2-user/anaconda3/envs/python3/lib/python3.10/site-packages/matplotlib/font_manager.py\u001b\\\u001b[2mfont_manager.py\u001b[0m\u001b]8;;\u001b\\\u001b[2m:\u001b[0m\u001b]8;id=318884;file:///home/ec2-user/anaconda3/envs/python3/lib/python3.10/site-packages/matplotlib/font_manager.py#1639\u001b\\\u001b[2m1639\u001b[0m\u001b]8;;\u001b\\\n"
      ]
     },
     "metadata": {},
     "output_type": "display_data"
    }
   ],
   "source": [
    "import torch\n",
    "import torch.nn as nn\n",
    "import torch.optim as optim\n",
    "from torchtext.data.utils import get_tokenizer\n",
    "from torchtext.vocab import build_vocab_from_iterator\n",
    "from torchtext.datasets import Multi30k\n",
    "from torch.utils.data import DataLoader\n",
    "\n",
    "import random\n",
    "import sys\n",
    "import time\n",
    "\n",
    "\n",
    "import matplotlib.pyplot as plt\n",
    "from torchtext.data.metrics import bleu_score"
   ]
  },
  {
   "cell_type": "code",
   "execution_count": 6,
   "metadata": {
    "colab": {
     "base_uri": "https://localhost:8080/"
    },
    "id": "b5M25lveO3-f",
    "outputId": "5577f84b-d84a-4a14-bc03-b9ea005768ee"
   },
   "outputs": [
    {
     "name": "stdout",
     "output_type": "stream",
     "text": [
      "2.1.0+cu121\n"
     ]
    }
   ],
   "source": [
    "print(torch.__version__)"
   ]
  },
  {
   "cell_type": "code",
   "execution_count": 7,
   "metadata": {
    "id": "jc-Bj1SEN30t"
   },
   "outputs": [],
   "source": [
    "\"\"\"\n",
    "For understanding purpose lets take \"Cat Loves Milk\" as an input instance in the first batch of 32 samples\n",
    "\n",
    "Let's assume:\n",
    "\n",
    "Batch size (N) = 32\n",
    "Sentence: \"Cat Loves Milk\"\n",
    "Number of words (seq_len) = 24 ([<bos>,\"Cat\", \"Loves\", \"Milk\",<eos> , <pad>,....]) -> value_len = key_len = query_len = max_len = 24\n",
    "Embedding size (embed_size) = 512\n",
    "Number of heads (heads) = 8\n",
    "Head dimension (head_dim) = embed_size / heads = 512 / 8 = 64\n",
    "\"\"\"\n",
    "\n",
    "class SelfAttention(nn.Module):\n",
    "    def __init__(self, embed_size, heads):\n",
    "        super().__init__()\n",
    "        self.embed_size = embed_size \n",
    "        self.heads = heads\n",
    "        self.head_dim = embed_size//heads\n",
    "        \n",
    "        assert(self.head_dim * heads == embed_size), \"Embed size needs to be div by heads\"\n",
    "        \n",
    "        # Each of these is a learnable weight matrix\n",
    "        self.values = nn.Linear(embed_size, embed_size) # W_V (512*512 Matrix)\n",
    "        self.keys = nn.Linear(embed_size, embed_size) # W_K (512*512 Matrix)\n",
    "        self.queries = nn.Linear(embed_size, embed_size) # W_Q (512*512 Matrix)\n",
    "        self.fc_out = nn.Linear(embed_size, embed_size) # W_O (512*512 Matrix)\n",
    "        \n",
    "    def forward(self, values, keys, query, mask):\n",
    "        N = query.shape[0] # Number of Training Examples -> N = 32 in our case\n",
    "        value_len, key_len, query_len = values.shape[1], keys.shape[1], query.shape[1]  # 24 (23 when attention called in Decoder) each sample length in the batch\n",
    "        # Difference in Query shape and key,value shape by 1 is observed when the attention is called in Decoder AFTER masked multi=head attention        \n",
    "        \n",
    "        values = self.values(values)   # (N, value_len, embed_size) # (32, 24, 512) -> (32, 24, 512)\n",
    "        keys = self.keys(keys)  # (N, key_len, embed_size)  # (32, 24, 512) -> (32, 24, 512)\n",
    "        queries = self.queries(query)   # (N, query_len, embed_size)  # (32, 24 or (23), 512) -> (32, 24 or (23), 512)\n",
    "        \n",
    "        # Reshape into multiple heads\n",
    "        values = values.reshape(N, value_len, self.heads, self.head_dim) # (32, 24, 8 , 64) nvhd\n",
    "        keys = keys.reshape(N, key_len, self.heads, self.head_dim) # (32, 24, 8 , 64) nkhd\n",
    "        queries = queries.reshape(N, query_len, self.heads, self.head_dim) # (32, 24, 8 , 64) nqhd\n",
    "\n",
    "        \n",
    "        # Einsum does matrix multiplication. for query*keys for each training example\n",
    "        energy = torch.einsum(\"nqhd,nkhd -> nhqk\", [queries, keys]) # Dot product each query with each key. We get a 24*24 (like a covariance matrix). This for each head. (8,24,24). On all samples in batch. (32,8,24,24)\n",
    "        #print(\"Here at Attention sending src_mask/ trg_mask\") \n",
    "        # Mask padded indices so their weights become close to 0                                                          # (32, 24, 8 , 64) @ (32, 24, 8 , 64) → (32, 8, 24, 24)    \n",
    "        if mask is not None:\n",
    "            #print(\"Mask Received\")\n",
    "            #print(f\"Mask Before Reshaping: {mask.shape}\")\n",
    "            mask = mask[:, :, :query_len, :key_len]\n",
    "            energy = energy.masked_fill(mask == 0, float(\"-1e20\"))\n",
    "        \n",
    "        \n",
    "        # Normalize energy values similarly to so that they sum to 1. Also divide by scaling factor for better stability\n",
    "        attention = torch.softmax(energy/ (self.head_dim ** (1/2)), dim=3) # (N, heads, query_len, key_len) # dim = 3 indicating we operate along row across columns i.e.on query for each key\n",
    "        \n",
    "        out = torch.einsum(\"nhqk,nvhd->nqhd\",[attention, values]) # multiplies attention scores with values. #(32, 8, 24, 24) @ (32, 24, 8, 64) → (32, 24, 8, 64)\n",
    "        out = self.fc_out(out.reshape(N, query_len, self.heads * self.head_dim )) # (32, 24, 512) # Flatten the last dimensions and send it to fc_out -> # (N, query_len, embed_size)\n",
    "        \n",
    "        return out\n",
    "\n",
    "class TransformerBlock(nn.Module):\n",
    "    def __init__(self, embed_size, heads, dropout, forward_expansion):\n",
    "        super().__init__()\n",
    "        self.attention = SelfAttention(embed_size, heads)\n",
    "        self.norm1 = nn.LayerNorm(embed_size)\n",
    "        self.norm2 = nn.LayerNorm(embed_size)\n",
    "        self.feed_forward = nn.Sequential(\n",
    "            nn.Linear(embed_size, forward_expansion*embed_size),\n",
    "            nn.ReLU(),\n",
    "            nn.Linear(forward_expansion*embed_size, embed_size)\n",
    "        )\n",
    "        self.dropout = nn.Dropout(dropout)\n",
    "\n",
    "    def forward(self, value, key, query, mask):\n",
    "        \"\"\"attention = self.attention(value, key, query, mask)\n",
    "        x = self.dropout(self.norm1(query + attention)) # Add skip connection, run through normalization and finally dropout\n",
    "        forward = self.feed_forward(x)\n",
    "        out = self.dropout(self.norm2(x + forward))\"\"\"\n",
    "\n",
    "        # Below is the Pre-LN implementation \n",
    "        attention = self.attention(self.norm1(value), self.norm1(key), self.norm1(query), mask) # Apply self-attention\n",
    "        x = self.dropout(query + attention)  # Skip connection with original query and dropout\n",
    "        forward = self.norm2(x)  # Normalize before feedforward\n",
    "        out = self.dropout(forward + self.feed_forward(forward))\n",
    "\n",
    "        return out\n",
    "\n",
    "class Encoder(nn.Module):\n",
    "    def __init__(\n",
    "        self,\n",
    "        src_vocab_size,  # Total vocabulary size (number of unique words)\n",
    "        embed_size,      # Dimension of each word embedding # 512\n",
    "        num_layers,      # Number of Transformer blocks # 6\n",
    "        heads,           # Number of self-attention heads # 8\n",
    "        device,          # GPU/CPU device\n",
    "        forward_expansion,  # Expansion factor for the feed-forward layer\n",
    "        dropout,         # Dropout rate\n",
    "        max_length,      # Maximum sentence length\n",
    "    ):\n",
    "        super().__init__()\n",
    "        self.embed_size = embed_size\n",
    "        self.device = device\n",
    "        self.word_embedding = nn.Embedding(src_vocab_size, embed_size) # Converts tokenized words into dense embeddings. i.e. each word willl be represented as embedding 1D vector -> 2D vector\n",
    "        self.position_embedding = nn.Embedding(max_length, embed_size) # Adds position information (since Transformers have no recurrence).\n",
    "        \n",
    "        self.layers = nn.ModuleList(\n",
    "            [\n",
    "                TransformerBlock(\n",
    "                    embed_size,\n",
    "                    heads,\n",
    "                    dropout = dropout,\n",
    "                    forward_expansion=forward_expansion\n",
    "                    )\n",
    "                for _ in range(num_layers)\n",
    "                ])\n",
    "        self.dropout = nn.Dropout(dropout)\n",
    "        \n",
    "    def forward(self, x, mask):\n",
    "        N, seq_length = x.shape #(32,24) # Here x is tokenized representations of Our data # Ex: [\"Cat\",\"Loves\",\"Milk\"] -> [2(bos),7,8,9,3(eos),1(pad),1,...]. Assume N = 32 (batch), seq_length = 24 (words)\n",
    "        positions = torch.arange(0, seq_length).expand(N, seq_length).to(self.device) #(32,24)\n",
    "        out = self.dropout(self.word_embedding(x) + self.position_embedding(positions)) # (32,24,512) + (32,24,512)\n",
    "        # word embedding (\"2\") returns a 512 dimensional vector\n",
    "        #print(\"Here at Encoder sending src_mask\")\n",
    "        for layer in self.layers:\n",
    "            out = layer(out, out, out, mask) # value, key, query (32,24,512), mask (32,1,1,24) which are the input for forward in Transformer Block\n",
    "            \n",
    "        \n",
    "        return out\n",
    "                           \n",
    "        \n",
    "class DecoderBlock(nn.Module):\n",
    "    def __init__(self, embed_size, heads, dropout, forward_expansion ):\n",
    "        super().__init__()\n",
    "        self.norm = nn.LayerNorm(embed_size)\n",
    "        self.attention = SelfAttention(embed_size, heads) # Masked Self-Attention\n",
    "        self.transformer_block = TransformerBlock(embed_size, heads, dropout = dropout, forward_expansion = forward_expansion) # Cross-Attention + Feedforward\n",
    "        self.dropout = nn.Dropout(dropout)\n",
    "        \n",
    "    def forward(self, value, key, x, src_mask, trg_mask):\n",
    "        #print(\"Here at Decoder Block sending trg_mask\")\n",
    "        attention = self.attention(self.norm(x), self.norm(x), self.norm(x), trg_mask)\n",
    "        query = self.dropout(attention + x)\n",
    "        out = self.transformer_block(value, key, query, src_mask) \n",
    "        \n",
    "        \"\"\"# Post LN Implementation\n",
    "        attention = self.attention(x, x, x, trg_mask) #Uses self-attention where query = key = value = x (decoder’s past words).                                                      # Uses trg_mask → Ensures that each word only attends to past words (not future words).\n",
    "        query = self.dropout(self.norm(attention + x))\n",
    "        out = self.transformer_block(value, key, query, src_mask)\"\"\" \n",
    "        return out\n",
    "    \n",
    "    \n",
    "class Decoder(nn.Module):\n",
    "    def __init__(\n",
    "            self,\n",
    "            trg_vocab_size,  # Target vocabulary size\n",
    "            embed_size,      # Dimension of each word embedding # 8\n",
    "            num_layers,      # Number of Transformer blocks\n",
    "            heads,           # Number of self-attention heads\n",
    "            device,          # GPU/CPU device\n",
    "            forward_expansion,  # Expansion factor for the feed-forward layer\n",
    "            dropout,         # Dropout rate\n",
    "            max_length,      # Maximum sentence length\n",
    "        ):\n",
    "        super().__init__()\n",
    "        self.embed_size = embed_size\n",
    "        self.device = device\n",
    "        self.word_embedding = nn.Embedding(trg_vocab_size, embed_size) # Converts tokenized words into dense embeddings.\n",
    "        self.position_embedding = nn.Embedding(max_length, embed_size) # Adds position information (since Transformers have no recurrence).\n",
    "        \n",
    "        self.layers = nn.ModuleList(\n",
    "            [\n",
    "                DecoderBlock(\n",
    "                    embed_size,\n",
    "                    heads,\n",
    "                    dropout = dropout,\n",
    "                    forward_expansion=forward_expansion\n",
    "                    )\n",
    "                for _ in range(num_layers)\n",
    "                ])\n",
    "        self.dropout = nn.Dropout(dropout)\n",
    "        self.fc_out = nn.Linear(embed_size, trg_vocab_size) # Projects the decoder output into target vocabulary scores\n",
    "        \n",
    "        \n",
    "    def forward(self, x, enc_out, src_mask, trg_mask):\n",
    "        N, seq_length = x.shape  # Here x is tokenized representations of Our data # Ex: [\"Cat\",\"Loves\",\"Milk\"] -> [2(bos),7,8,9,3(eos),1(pad),1,...]. Assume N = 32 (batch), seq_length = 23 (words)\n",
    "        positions = torch.arange(0, seq_length).expand(N, seq_length).to(self.device)  #(32,23)\n",
    "        x = self.dropout(self.word_embedding(x) + self.position_embedding(positions)) # (32,23,512) + (32,23,512)\n",
    "        # word embedding (\"2\") returns a 512 dimensional vector\n",
    "        #print(\"Here at Decoder sending trg_mask and src_mask\")\n",
    "        #print(trg_mask.shape, src_mask.shape)\n",
    "        for layer in self.layers:\n",
    "            x = layer(enc_out, enc_out, x, src_mask, trg_mask) # value(32, 24, 512), key(32, 24, 512), query (32, 23, 512), mask (32, 1, 23, 23) which are the input for forward in Transformer Block\n",
    "         \n",
    "        out = self.fc_out(x) # (32, 23, 512) -> (32,23,trg_vocab_size)\n",
    "        return out\n",
    "    \n",
    "class Transformer(nn.Module):\n",
    "    def __init__(\n",
    "        self,\n",
    "        src_vocab_size,\n",
    "        trg_vocab_size,\n",
    "        src_pad_idx,\n",
    "        trg_pad_idx,\n",
    "        embed_size=512,\n",
    "        num_layers=6,\n",
    "        forward_expansion=4,\n",
    "        heads=8,\n",
    "        dropout=0.0,\n",
    "        device=\"cpu\",\n",
    "        max_length=100,\n",
    "    ):\n",
    "\n",
    "        super().__init__()\n",
    "\n",
    "        self.encoder = Encoder(\n",
    "            src_vocab_size,\n",
    "            embed_size,\n",
    "            num_layers,\n",
    "            heads,\n",
    "            device,\n",
    "            forward_expansion,\n",
    "            dropout,\n",
    "            max_length,\n",
    "        )\n",
    "\n",
    "        self.decoder = Decoder(\n",
    "            trg_vocab_size,\n",
    "            embed_size,\n",
    "            num_layers,\n",
    "            heads,\n",
    "            device,\n",
    "            forward_expansion,\n",
    "            dropout,\n",
    "            max_length,\n",
    "        )\n",
    "\n",
    "        self.src_pad_idx = src_pad_idx\n",
    "        self.trg_pad_idx = trg_pad_idx\n",
    "        self.device = device\n",
    "        for p in self.parameters():\n",
    "            if p.dim() > 1:\n",
    "                nn.init.xavier_uniform_(p)\n",
    "\n",
    "\n",
    "    def make_src_mask(self, src):\n",
    "        src_mask = (src != self.src_pad_idx).unsqueeze(1).unsqueeze(2)# (N = src.shape[0], 1, 1, src.shape[1]) \n",
    "        return src_mask.to(self.device)\n",
    "    \n",
    "    def make_trg_mask(self, trg):\n",
    "        N, trg_len = trg.shape  # Get batch size and current sequence length\n",
    "        mask = torch.tril(torch.ones((trg_len, trg_len), device=self.device)).expand(N, 1, trg_len, trg_len) # (N,1,trg_len,trg_len) \n",
    "        return mask\n",
    "\n",
    "\n",
    "    def forward(self, src, trg):\n",
    "        src_mask = self.make_src_mask(src) #(32,1,1,24) Booleans # To not consider any padding values\n",
    "        trg_mask = self.make_trg_mask(trg) # (32,1,23,23)  Ones and Zeros # Lower Triangualr matrix to not allow peeking\n",
    "        #print(\"Here at Transformer Main Function sending src_mask\")\n",
    "        enc_src = self.encoder(src, src_mask)\n",
    "        out = self.decoder(trg, enc_src, src_mask, trg_mask)\n",
    "        return out\n"
   ]
  },
  {
   "cell_type": "code",
   "execution_count": 8,
   "metadata": {
    "id": "4G5NJDi3Sx2t"
   },
   "outputs": [],
   "source": [
    "def train(model, dataloader, optimizer, loss_fn, device):\n",
    "    model.train() # Setting the model to train mode\n",
    "    epoch_loss = 0\n",
    "    for batch_idx, (src,tgt) in enumerate(dataloader):\n",
    "        src, tgt = src.to(device), tgt.to(device)\n",
    "        optimizer.zero_grad()\n",
    "\n",
    "        # Target input (remove last token) and target output (remove first token)\n",
    "        tgt_input = tgt[:,:-1] # Input to decoder (without eos)\n",
    "        tgt_output = tgt[:,1:] # Target output (without bos)\n",
    "\n",
    "        # Forward pass\n",
    "        output = model(src, tgt_input)\n",
    "\n",
    "\n",
    "        # Reshape output to match loss function expectations\n",
    "        output = output.reshape(-1, output.shape[-1])  # [batch*seq_len, vocab_size]\n",
    "        tgt_output = tgt_output.reshape(-1) # [batch*seq_len]\n",
    "\n",
    "        # Compute loss\n",
    "        loss = loss_fn(output, tgt_output)\n",
    "        loss.backward()\n",
    "\n",
    "        # Gradient Clipping to ptevent exploding gradients\n",
    "        torch.nn.utils.clip_grad_norm_(model.parameters(), max_norm=clip)\n",
    "\n",
    "        # Update weights\n",
    "        optimizer.step()\n",
    "        scheduler.step()\n",
    "\n",
    "        epoch_loss += loss.item()\n",
    "\n",
    "        # # Print loss every 100 batches\n",
    "        # if batch_idx % 100 == 0:\n",
    "        #     print(f\"Batch [{batch_idx}/{len(train_dataloader)}], Loss: {loss.item():.4f}\")\n",
    "\n",
    "    return epoch_loss / len(train_dataloader)\n",
    "\n",
    "\n",
    "\n",
    "def evaluate(model, dataloader, loss_fn, device):\n",
    "    model.eval()  # Set model to evaluation mode\n",
    "    epoch_loss = 0\n",
    "\n",
    "    with torch.no_grad():\n",
    "        for src, tgt in dataloader:\n",
    "            src, tgt = src.to(device), tgt.to(device)\n",
    "\n",
    "\n",
    "            tgt_input = tgt[:, :-1]  # Input to decoder (without <eos>)\n",
    "            tgt_output = tgt[:, 1:]  # Target output (without <bos>)\n",
    "\n",
    "\n",
    "            output = model(src, tgt_input)\n",
    "\n",
    "            # Reshape output for loss computation\n",
    "            output = output.reshape(-1, output.shape[-1])\n",
    "            tgt_output = tgt_output.reshape(-1)\n",
    "\n",
    "            loss = loss_fn(output, tgt_output)\n",
    "            epoch_loss += loss.item()\n",
    "\n",
    "    return epoch_loss / len(dataloader)\n"
   ]
  },
  {
   "cell_type": "code",
   "execution_count": 9,
   "metadata": {
    "colab": {
     "base_uri": "https://localhost:8080/"
    },
    "id": "F5DXx3sARDHl",
    "outputId": "2f1db1f6-a35d-4c43-8ddb-5b5f6144f5c9"
   },
   "outputs": [],
   "source": [
    "# Function to yield tokens (for vocab building) sepearate for each vocabulary\n",
    "def yield_tokens(data, tokenizer, lang=\"en\"):\n",
    "    for src_text, tgt_text in data:\n",
    "        text = src_text if lang == \"en\" else tgt_text  # Choose English or German text\n",
    "        yield tokenizer(text)\n",
    "\n",
    "# converts into a tensor of numerical token IDs -> [2,21,45,.....,3]\n",
    "def text_to_tensor(text, vocab, tokenizer):\n",
    "    tokens = [vocab[\"<bos>\"]] + [vocab[token] if token in vocab else vocab[\"<unk>\"] for token in tokenizer(text)] + [vocab[\"<eos>\"]]\n",
    "    return torch.tensor(tokens, dtype=torch.long)\n",
    "\n",
    "# Collate function for DataLoader\n",
    "def collate_fn(batch):\n",
    "    src_batch, tgt_batch = [], []\n",
    "    for src_text, tgt_text in batch:\n",
    "        src_batch.append(text_to_tensor(src_text, en_vocab, en_tokenizer))\n",
    "        tgt_batch.append(text_to_tensor(tgt_text, de_vocab, de_tokenizer))\n",
    "\n",
    "    max_len = max(max(len(seq) for seq in src_batch), max(len(seq) for seq in tgt_batch))\n",
    "\n",
    "    src_batch = [torch.cat([seq, torch.full((max_len - len(seq),), en_vocab[\"<pad>\"])]) for seq in src_batch]\n",
    "    tgt_batch = [torch.cat([seq, torch.full((max_len - len(seq),), de_vocab[\"<pad>\"])]) for seq in tgt_batch]\n",
    "\n",
    "    src_batch = torch.stack(src_batch)\n",
    "    tgt_batch = torch.stack(tgt_batch)\n",
    "\n",
    "    return src_batch, tgt_batch\n"
   ]
  },
  {
   "cell_type": "code",
   "execution_count": 11,
   "metadata": {
    "colab": {
     "base_uri": "https://localhost:8080/"
    },
    "id": "NGBii_2dRNgp",
    "outputId": "90e86d37-1a6d-446a-b3ed-833392bd725e"
   },
   "outputs": [
    {
     "name": "stdout",
     "output_type": "stream",
     "text": [
      "cpu\n"
     ]
    }
   ],
   "source": [
    "device = torch.device(\"cuda\" if torch.cuda.is_available() else \"cpu\")\n",
    "print(device)"
   ]
  },
  {
   "cell_type": "code",
   "execution_count": 12,
   "metadata": {},
   "outputs": [],
   "source": [
    "num_epochs = 1\n",
    "clip = 5 # Gradient Clipping to prevent exploding gradients\n",
    "embed_size = 512\n",
    "num_layers=6\n",
    "forward_expansion=4\n",
    "heads=8\n",
    "dropout=0.1\n",
    "device=device\n",
    "max_length=256\n",
    "batch_size = 128\n",
    "lr = 0.001"
   ]
  },
  {
   "cell_type": "code",
   "execution_count": null,
   "metadata": {
    "id": "KAd76Z1BY2V6"
   },
   "outputs": [
    {
     "name": "stderr",
     "output_type": "stream",
     "text": [
      "/home/ec2-user/anaconda3/envs/python3/lib/python3.10/site-packages/torch/cuda/__init__.py:611: UserWarning: Can't initialize NVML\n",
      "  warnings.warn(\"Can't initialize NVML\")\n"
     ]
    },
    {
     "name": "stdout",
     "output_type": "stream",
     "text": [
      "Tokenized sample: ['This', 'is', 'an', 'example', 'sentence', '.']\n",
      "Train Data: 23200 samples\n",
      "Validation Data: 2900 samples\n",
      "Test Data: 2901 samples\n",
      "Loaded first 2 samples: [('A statue and trees in a plaza in front of a building with people walking past.', 'Eine Statue und Bäume auf einem Platz vor einem Gebäude mit vorbeigehenden Personen.'), ('A skateboarder is flying through the air on a red skateboard.', 'Ein Skater fliegt mit einem roten Skateboard durch die Luft.')]\n"
     ]
    }
   ],
   "source": [
    "# Tokenizers\n",
    "# Tokenizer converts text into a list of tokens (words)\n",
    "en_tokenizer = get_tokenizer(\"spacy\", language = \"en_core_web_sm\") # Small English tokenizer model\n",
    "de_tokenizer = get_tokenizer(\"spacy\", language = \"de_core_news_sm\") # Small German tokenizer model\n",
    "\n",
    "# Example:\n",
    "sample_text = \"This is an example sentence.\"\n",
    "print(\"Tokenized sample:\", en_tokenizer(sample_text))\n",
    "# Expected Output: ['This', 'is', 'an', 'example', 'sentence', '.']\n",
    "\n",
    "# Loading the data\n",
    "full_train_data = list(Multi30k(split = 'train', language_pair = ('en', 'de'))) # Multi30K is a dataset for English-German translation.\n",
    "# Shuffle the data to ensure randomness\n",
    "random.shuffle(full_train_data)\n",
    "\n",
    "# Split dataset into train, validation, and test (80-10-10 split)\n",
    "train_size = int(0.8 * len(full_train_data))  # 80% for training\n",
    "val_size = int(0.1 * len(full_train_data))    # 10% for validation\n",
    "test_size = len(full_train_data) - train_size - val_size  # Remaining 10% for testing\n",
    "\n",
    "# Create subsets\n",
    "train_data = full_train_data[:train_size]\n",
    "val_data = full_train_data[train_size:train_size + val_size]\n",
    "test_data = full_train_data[train_size + val_size:]\n",
    "\n",
    "print(f\"Train Data: {len(train_data)} samples\")\n",
    "print(f\"Validation Data: {len(val_data)} samples\")\n",
    "print(f\"Test Data: {len(test_data)} samples\")\n",
    "\n",
    "\n",
    "print(\"Loaded first 2 samples:\", train_data[:2])  # Print first two samples\n",
    "\n",
    "\n",
    "# Build vocab for the data i.e. all unique tokens(text) to Uniques IDs from the data\n",
    "en_vocab = build_vocab_from_iterator(yield_tokens(train_data, en_tokenizer, lang = \"en\"), specials=[\"<unk>\", \"<pad>\", \"<bos>\", \"<eos>\"])\n",
    "de_vocab = build_vocab_from_iterator(yield_tokens(train_data, de_tokenizer, lang = \"de\"), specials=[\"<unk>\", \"<pad>\", \"<bos>\", \"<eos>\"])\n",
    "\n",
    "# Set unknown token index (handles words not in vocab)\n",
    "en_vocab.set_default_index(en_vocab[\"<unk>\"])\n",
    "de_vocab.set_default_index(de_vocab[\"<unk>\"])\n",
    "\n",
    "print(f\"Length of English vocab is {len(en_vocab)} and German vocab is {len(de_vocab)} for {len(train_data)} samples\")\n",
    "\n",
    "# DataLoader handles **shuffling**, **batching**, and **efficient loading**.\n",
    "\n",
    "train_dataloader = DataLoader(train_data, batch_size = batch_size, collate_fn = collate_fn)\n",
    "val_dataloader = DataLoader(val_data, batch_size = batch_size, collate_fn = collate_fn)\n",
    "\n",
    "\n",
    "for src_batch, tgt_batch in train_dataloader:\n",
    "    print(f\" Source batch shape : {src_batch.shape} ; Target Batch shape : {tgt_batch.shape}\")\n",
    "    break\n",
    "\n",
    "\n",
    "sample_german_sentence = train_data[0][1]  # Get first German sentence\n",
    "print(\"German sentence:\", sample_german_sentence)\n",
    "print(\"Tokenized:\", de_tokenizer(sample_german_sentence))\n",
    "tokens = de_tokenizer(\"Zwei junge weiße Männer sind im Freien .\")\n",
    "print(\"Token IDs:\", [de_vocab[token] for token in tokens])"
   ]
  },
  {
   "cell_type": "code",
   "execution_count": 18,
   "metadata": {
    "id": "BY301Ze2Rrzp"
   },
   "outputs": [],
   "source": [
    "src_pad_idx = en_vocab[\"<pad>\"]\n",
    "trg_pad_idx = de_vocab[\"<pad>\"]\n",
    "src_vocab_size = len(en_vocab)\n",
    "trg_vocab_size = len(de_vocab)\n",
    "\n",
    "# Define Transformer model\n",
    "model = Transformer(\n",
    "    src_vocab_size,\n",
    "    trg_vocab_size,\n",
    "    src_pad_idx,\n",
    "    trg_pad_idx,\n",
    "    embed_size=embed_size,\n",
    "    num_layers=num_layers,\n",
    "    forward_expansion=forward_expansion,\n",
    "    heads=heads,\n",
    "    dropout=dropout,\n",
    "    device=device,\n",
    "    max_length=max_length,\n",
    ").to(device)\n",
    "\n",
    "loss_fn = torch.nn.CrossEntropyLoss(ignore_index=src_pad_idx)\n",
    "\n",
    "\"\"\"\n",
    "#Adam optimizer\n",
    "from torch.optim.lr_scheduler import ReduceLROnPlateau\n",
    "#optimizer = optim.Adam(model.parameters(), lr = 3e-4, betas=(0.9, 0.98), eps=1e-9)\n",
    "optimizer = optim.Adam(model.parameters(), lr=0.1, betas=(0.9, 0.98), eps=5e-9, weight_decay=5e-4)\n",
    "scheduler = ReduceLROnPlateau(optimizer, mode='min', factor=0.9, patience=10, verbose=True)\n",
    "\"\"\"\n",
    "import math\n",
    "class InverseSqrtLR(optim.lr_scheduler.LambdaLR):\n",
    "    def __init__(self, optimizer, d_model, warmup_steps):\n",
    "        self.d_model = d_model\n",
    "        self.warmup_steps = warmup_steps\n",
    "        super().__init__(optimizer, self.lr_lambda)\n",
    "\n",
    "    def lr_lambda(self, step_num):\n",
    "        step_num = max(step_num, 1)  # Ensure step_num is at least 1\n",
    "        return (self.d_model ** -0.5) * min(step_num ** -0.5, step_num * (self.warmup_steps ** -1.5))\n",
    "\n",
    "\n",
    "\n",
    "optimizer = optim.Adam(\n",
    "    model.parameters(),\n",
    "    lr=lr,            # Initial learning rate\n",
    "    betas=(0.9, 0.98),   # β1 = 0.9, β2 = 0.98\n",
    "    eps=1e-9             # Small epsilon value for numerical stability\n",
    ")\n",
    "\n",
    "\n",
    "# Set up the scheduler with warm-up steps\n",
    "warmup_steps = 4000\n",
    "scheduler = InverseSqrtLR(optimizer, d_model=512, warmup_steps=warmup_steps)"
   ]
  },
  {
   "cell_type": "code",
   "execution_count": 19,
   "metadata": {
    "colab": {
     "base_uri": "https://localhost:8080/",
     "height": 801
    },
    "id": "aJjDRsOeS_Bf",
    "outputId": "2c12b21b-6d3c-4186-8641-89b4da4603e3"
   },
   "outputs": [
    {
     "ename": "NameError",
     "evalue": "name 'os' is not defined",
     "output_type": "error",
     "traceback": [
      "\u001b[0;31m---------------------------------------------------------------------------\u001b[0m",
      "\u001b[0;31mNameError\u001b[0m                                 Traceback (most recent call last)",
      "Cell \u001b[0;32mIn[19], line 4\u001b[0m\n\u001b[1;32m      2\u001b[0m model_dir \u001b[38;5;241m=\u001b[39m \u001b[38;5;124m\"\u001b[39m\u001b[38;5;124m/content/drive/My Drive/Colab Notebooks/models\u001b[39m\u001b[38;5;124m\"\u001b[39m\n\u001b[1;32m      3\u001b[0m \u001b[38;5;66;03m# Create the directory if it doesn't exist\u001b[39;00m\n\u001b[0;32m----> 4\u001b[0m \u001b[43mos\u001b[49m\u001b[38;5;241m.\u001b[39mmakedirs(model_dir, exist_ok\u001b[38;5;241m=\u001b[39m\u001b[38;5;28;01mTrue\u001b[39;00m)\n\u001b[1;32m      5\u001b[0m model_path \u001b[38;5;241m=\u001b[39m os\u001b[38;5;241m.\u001b[39mpath\u001b[38;5;241m.\u001b[39mjoin(model_dir, \u001b[38;5;124m\"\u001b[39m\u001b[38;5;124mbest_transformer_model.pth\u001b[39m\u001b[38;5;124m\"\u001b[39m)\n\u001b[1;32m      8\u001b[0m \u001b[38;5;66;03m# Run training & evaluation\u001b[39;00m\n",
      "\u001b[0;31mNameError\u001b[0m: name 'os' is not defined"
     ]
    }
   ],
   "source": [
    "\n",
    "model_path = f\"s3://{bucket}/transformer-model/best_transformer_model.pth\"\n",
    "\n",
    "\n",
    "# Run training & evaluation\n",
    "best_valid_loss = float(\"inf\")\n",
    "# Store loss values for visualization\n",
    "train_losses = []\n",
    "valid_losses = []\n",
    "\n",
    "\n",
    "for epoch in range(num_epochs):\n",
    "    start_time = time.time()\n",
    "\n",
    "    train_loss = train(model, train_dataloader, optimizer, loss_fn, device)\n",
    "    valid_loss = evaluate(model, val_dataloader, loss_fn, device)\n",
    "    # Step the scheduler based on validation loss\n",
    "    # scheduler.step(valid_loss)\n",
    "\n",
    "    end_time = time.time()\n",
    "    epoch_mins, epoch_secs = divmod(int(end_time - start_time), 60)\n",
    "\n",
    "    print(f\"Epoch {epoch+1}: Train Loss: {train_loss:.3f} | Validation Loss: {valid_loss:.3f} Time: {epoch_mins}m {epoch_secs}s\")\n",
    "\n",
    "    train_losses.append(train_loss)\n",
    "    valid_losses.append(valid_loss)\n",
    "    torch.save(model.state_dict(), model_path)\n",
    "    # # Save the model if validation loss improves\n",
    "    # if valid_loss < best_valid_loss:\n",
    "    #     best_valid_loss = valid_loss\n",
    "    #     torch.save(model.state_dict(), \"best_transformer_model.pth\")\n",
    "    #     print(\"Model saved!\")\n",
    "\n",
    "# Plot Training & Validation Loss After Training\n",
    "plt.figure(figsize=(8, 5))\n",
    "plt.plot(range(1, num_epochs+1), train_losses, label='Training Loss')\n",
    "plt.plot(range(1, num_epochs+1), valid_losses, label='Validation Loss')\n",
    "plt.xlabel('Epochs')\n",
    "plt.ylabel('Loss')\n",
    "plt.title('Training & Validation Loss Over Epochs')\n",
    "plt.legend()\n",
    "plt.show()"
   ]
  },
  {
   "cell_type": "code",
   "execution_count": null,
   "metadata": {
    "id": "NEdSQeTAYyRt"
   },
   "outputs": [],
   "source": []
  },
  {
   "cell_type": "code",
   "execution_count": null,
   "metadata": {
    "id": "s3jio4WQYyPI"
   },
   "outputs": [],
   "source": []
  },
  {
   "cell_type": "code",
   "execution_count": null,
   "metadata": {
    "id": "Uew4hY-CYyMy"
   },
   "outputs": [],
   "source": []
  },
  {
   "cell_type": "code",
   "execution_count": null,
   "metadata": {
    "id": "N7AaPMlVYyKM"
   },
   "outputs": [],
   "source": []
  },
  {
   "cell_type": "code",
   "execution_count": null,
   "metadata": {
    "id": "IXiBvbsdYyEd"
   },
   "outputs": [],
   "source": []
  },
  {
   "cell_type": "code",
   "execution_count": 31,
   "metadata": {
    "id": "VZSsecjNYx61"
   },
   "outputs": [],
   "source": [
    "def translate_sentence(model, sentence, src_vocab, trg_vocab, tokenizer, device, max_length=50):\n",
    "    model.eval()  # Set model to evaluation mode\n",
    "\n",
    "    # Tokenize and convert to tensor safely\n",
    "    tokens = [src_vocab[\"<bos>\"]] + [\n",
    "        src_vocab[token] if token in src_vocab else src_vocab[\"<unk>\"] for token in tokenizer(sentence)\n",
    "    ] + [src_vocab[\"<eos>\"]]\n",
    "\n",
    "    # Debugging: Check if any tokens are out of vocab\n",
    "    for token in tokenizer(sentence):\n",
    "        if token not in src_vocab:\n",
    "            print(f\"WARNING: Token '{token}' not in vocab. Mapping to <unk>.\")\n",
    "\n",
    "    # Convert tokens to tensor and add batch dimension\n",
    "    sentence_tensor = torch.tensor(tokens, dtype=torch.long).unsqueeze(0).to(device)\n",
    "\n",
    "    print(f\"\\n Tokenized Sentence: {tokens} Sentence Tensor Shape: {sentence_tensor.shape}\")\n",
    "    # print(f\" Max Index in Sentence: {max(tokens)}, Vocab Size: {len(src_vocab)}\")\n",
    "\n",
    "    with torch.no_grad():\n",
    "        # Encode the source sentence\n",
    "        src_mask = model.make_src_mask(sentence_tensor)\n",
    "        enc_src = model.encoder(sentence_tensor, src_mask)\n",
    "\n",
    "        # Initialize target sequence with <bos>\n",
    "        trg_indexes = [trg_vocab[\"<bos>\"]]\n",
    "\n",
    "        for i in range(max_length):\n",
    "            trg_tensor = torch.tensor(trg_indexes, dtype=torch.long).unsqueeze(0).to(device)\n",
    "            trg_mask = model.make_trg_mask(trg_tensor)\n",
    "\n",
    "            # Pass through the decoder\n",
    "            output = model.decoder(trg_tensor, enc_src, src_mask, trg_mask)\n",
    "\n",
    "            # Get the next token (greedy decoding)\n",
    "            next_word = output.argmax(2)[:, -1].item()\n",
    "            trg_indexes.append(next_word)\n",
    "\n",
    "            # Debugging: Print top predictions\n",
    "            probs = torch.softmax(output[:, -1, :], dim=-1)\n",
    "            top5 = torch.topk(probs, 5)\n",
    "            # print(f\"Step {i+1}: Next token: {next_word} ({trg_vocab.get_itos()[next_word]}) | Top5 Predictions: {top5.indices.tolist()}\")\n",
    "            print(f\"Generated Indexes : {trg_indexes} and shape {len(trg_indexes)}\")\n",
    "            # Stop if <eos> is generated\n",
    "            if next_word == trg_vocab[\"<eos>\"] or len(trg_indexes) == sentence_tensor.shape[1]:\n",
    "                print(\" Stopping as <eos> is generated.\")\n",
    "                break\n",
    "\n",
    "    translated_tokens = [trg_vocab.get_itos()[idx] for idx in trg_indexes]\n",
    "    print(f\" Translated Tokens: {translated_tokens[1:-1]}\")  # Excluding <bos> and <eos>\n",
    "    return translated_tokens[1:-1]  # Remove <bos> and <eos>\n"
   ]
  },
  {
   "cell_type": "code",
   "execution_count": 33,
   "metadata": {
    "colab": {
     "base_uri": "https://localhost:8080/"
    },
    "id": "Rwx-vPd9OC2d",
    "outputId": "7cd7d8ea-9e47-43de-b67f-779958261fd9"
   },
   "outputs": [
    {
     "name": "stdout",
     "output_type": "stream",
     "text": [
      "\n",
      " Tokenized Sentence: [2, 6, 12, 10, 38, 4, 127, 3] Sentence Tensor Shape: torch.Size([1, 8])\n",
      "Generated Indexes : [2, 12] and shape 2\n",
      "Generated Indexes : [2, 12, 12] and shape 3\n",
      "Generated Indexes : [2, 12, 12, 12] and shape 4\n",
      "Generated Indexes : [2, 12, 12, 12, 12] and shape 5\n",
      "Generated Indexes : [2, 12, 12, 12, 12, 12] and shape 6\n",
      "Generated Indexes : [2, 12, 12, 12, 12, 12, 12] and shape 7\n",
      "Generated Indexes : [2, 12, 12, 12, 12, 12, 12, 12] and shape 8\n",
      " Stopping as <eos> is generated.\n",
      " Translated Tokens: ['Mann', 'Mann', 'Mann', 'Mann', 'Mann', 'Mann']\n",
      "Translated Sentence: Mann Mann Mann Mann Mann Mann\n"
     ]
    }
   ],
   "source": [
    "# Load the best trained model\n",
    "model = Transformer(\n",
    "    src_vocab_size,\n",
    "    trg_vocab_size,\n",
    "    src_pad_idx,\n",
    "    trg_pad_idx,\n",
    "    embed_size=embed_size,\n",
    "    num_layers=num_layers,\n",
    "    forward_expansion=forward_expansion,\n",
    "    heads=heads,\n",
    "    dropout=dropout,\n",
    "    device=device,\n",
    "    max_length=max_length,\n",
    ").to(device)\n",
    "\n",
    "\n",
    "model.load_state_dict(torch.load(model_path))\n",
    "model.to(device)\n",
    "\n",
    "# Example test sentence\n",
    "test_sentence = \"A man is playing a guitar\"\n",
    "\n",
    "translated_output = translate_sentence(model, test_sentence, en_vocab, de_vocab, en_tokenizer, device)\n",
    "print(\"Translated Sentence:\", \" \".join(translated_output))\n"
   ]
  },
  {
   "cell_type": "code",
   "execution_count": null,
   "metadata": {
    "id": "QSgz4GzdZ9sS"
   },
   "outputs": [],
   "source": [
    "def compute_bleu(model, test_data, src_vocab, trg_vocab, src_tokenizer, trg_tokenizer, device):\n",
    "    model.eval()\n",
    "    references = []\n",
    "    hypotheses = []\n",
    "\n",
    "    for src_sentence, trg_sentence in test_data:\n",
    "        reference = [trg_tokenizer(trg_sentence)]  # Tokenize the ground-truth sentence\n",
    "        hypothesis = translate_sentence(model, src_sentence, src_vocab, trg_vocab, src_tokenizer, device)\n",
    "\n",
    "        references.append(reference)\n",
    "        hypotheses.append(hypothesis)\n",
    "\n",
    "    score = bleu_score(hypotheses, references)\n",
    "    return score\n",
    "\n",
    "\n",
    "\n",
    "\n",
    "# Compute BLEU Score\n",
    "bleu = compute_bleu(model, test_data[:2], en_vocab, de_vocab, en_tokenizer, de_tokenizer, device)\n",
    "print(f\"BLEU Score: {bleu:.4f}\")\n"
   ]
  }
 ],
 "metadata": {
  "accelerator": "GPU",
  "colab": {
   "gpuType": "T4",
   "provenance": []
  },
  "kernelspec": {
   "display_name": "conda_python3",
   "language": "python",
   "name": "conda_python3"
  },
  "language_info": {
   "codemirror_mode": {
    "name": "ipython",
    "version": 3
   },
   "file_extension": ".py",
   "mimetype": "text/x-python",
   "name": "python",
   "nbconvert_exporter": "python",
   "pygments_lexer": "ipython3",
   "version": "3.10.16"
  }
 },
 "nbformat": 4,
 "nbformat_minor": 4
}
